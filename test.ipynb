{
 "cells": [
  {
   "cell_type": "code",
   "execution_count": 1,
   "source": [
    "import xml.etree.ElementTree as ET\r\n",
    "import pandas as pd\r\n",
    "from dfply import *"
   ],
   "outputs": [],
   "metadata": {}
  },
  {
   "cell_type": "markdown",
   "source": [
    "Remember to freeze python environment using\r\n",
    "\r\n",
    "pip freeze > requirements.txt"
   ],
   "metadata": {}
  },
  {
   "cell_type": "code",
   "execution_count": 2,
   "source": [
    "tree = ET.parse('1.lpm')\r\n",
    "root = tree.getroot()\r\n",
    "print(root)\r\n",
    "print(root.tag, root.attrib)"
   ],
   "outputs": [
    {
     "output_type": "stream",
     "name": "stdout",
     "text": [
      "<Element 'Messung' at 0x00000243EE347680>\n",
      "Messung {}\n"
     ]
    }
   ],
   "metadata": {}
  },
  {
   "cell_type": "code",
   "execution_count": 3,
   "source": [
    "temp_nodes = root.findall(\".//*/Temperaturen\")\r\n",
    "pruef_nodes = root.findall(\".//*/Pruefschritte/*\")\r\n",
    "thermoelement_nodes = root.findall(\".//*/Thermoelemente/*\")\r\n",
    "room_temp_node = root.findall(\".//*/Raum/*\")"
   ],
   "outputs": [],
   "metadata": {}
  },
  {
   "cell_type": "code",
   "execution_count": 4,
   "source": [
    "for room_temp in root.iter('Raumtemperatur_kalt'):\r\n",
    "    datetime_str = room_temp.attrib[\"Time\"]\r\n",
    "print(datetime_str)"
   ],
   "outputs": [
    {
     "output_type": "stream",
     "name": "stdout",
     "text": [
      "15.06.2020 17:09:01\n"
     ]
    }
   ],
   "metadata": {}
  },
  {
   "cell_type": "code",
   "execution_count": 5,
   "source": [
    "for child in room_temp_node:\r\n",
    "    print(child.tag, child.attrib)"
   ],
   "outputs": [],
   "metadata": {}
  },
  {
   "cell_type": "code",
   "execution_count": 11,
   "source": [
    "lst = []\r\n",
    "for norm in pruef_nodes:\r\n",
    "    norm_node = root.findall(''.join([\".//*/\", norm.tag, \"/*\"]))\r\n",
    "    for messergebnisse in norm_node:\r\n",
    "        for kreis_temp in messergebnisse:\r\n",
    "            for messung in kreis_temp:\r\n",
    "                tag = messung.tag\r\n",
    "                value = messung.attrib[\"Value\"]\r\n",
    "                norm_mesaurement = norm.tag\r\n",
    "                s = [norm_mesaurement, tag, value]\r\n",
    "                lst.append(s)\r\n",
    "\r\n",
    "df = (pd.DataFrame(lst, columns = ['norm', 'description', 'value']) >>\r\n",
    "    mutate(datetime = datetime_str))\r\n",
    "\r\n",
    "# work around for reorder aka dplyr reorder()\r\n",
    "cols_to_order = ['datetime']\r\n",
    "new_columns = cols_to_order + (df.columns.drop(cols_to_order).tolist())\r\n",
    "df = df[new_columns]\r\n",
    "print(df)"
   ],
   "outputs": [
    {
     "output_type": "stream",
     "name": "stdout",
     "text": [
      "               datetime     norm      description    value\n",
      "0   15.06.2020 17:09:01  Norm090   Raumtemperatur   23,439\n",
      "1   15.06.2020 17:09:01  Norm090            UNenn  207,300\n",
      "2   15.06.2020 17:09:01  Norm090            INenn    0,181\n",
      "3   15.06.2020 17:09:01  Norm090            PNenn   36,900\n",
      "4   15.06.2020 17:09:01  Norm090          U_Lampe  207,500\n",
      "..                  ...      ...              ...      ...\n",
      "59  15.06.2020 17:09:01  Norm110   ThermoElement6   37,039\n",
      "60  15.06.2020 17:09:01  Norm110   ThermoElement7   42,098\n",
      "61  15.06.2020 17:09:01  Norm110   ThermoElement8   39,645\n",
      "62  15.06.2020 17:09:01  Norm110   ThermoElement9   35,304\n",
      "63  15.06.2020 17:09:01  Norm110  ThermoElement10   33,127\n",
      "\n",
      "[64 rows x 4 columns]\n"
     ]
    }
   ],
   "metadata": {}
  },
  {
   "cell_type": "code",
   "execution_count": 22,
   "source": [
    "df_test = df.pivot_table(index = \"datetime\", \r\n",
    "                         columns = ['norm', 'description'])\r\n",
    "print(df_test)"
   ],
   "outputs": [
    {
     "output_type": "stream",
     "name": "stdout",
     "text": [
      "Empty DataFrame\n",
      "Columns: []\n",
      "Index: [15.06.2020 17:09:01]\n"
     ]
    }
   ],
   "metadata": {}
  },
  {
   "cell_type": "code",
   "execution_count": null,
   "source": [
    "lst = list(zip(*[['Geeks', 'For', 'Geeks', 'is', 'portal', 'for', 'Geeks'],\r\n",
    "                 [1, 2, 3, 4, 5, 6, 7 ]]))\r\n",
    "df_app = pd.DataFrame(lst, columns = ['check', 'value'])\r\n",
    "pd.concat([df, df_app], axis = 0, ignore_index = True)"
   ],
   "outputs": [],
   "metadata": {}
  },
  {
   "cell_type": "code",
   "execution_count": null,
   "source": [
    "my_list = [\"mouse\", [8, 4, 6], ['a']]"
   ],
   "outputs": [],
   "metadata": {}
  },
  {
   "cell_type": "code",
   "execution_count": null,
   "source": [
    "for child in Thermoelement_nodes:\r\n",
    "   print(child.tag, child.attrib)\r\n",
    "print(len(Thermoelement_nodes))"
   ],
   "outputs": [],
   "metadata": {}
  }
 ],
 "metadata": {
  "orig_nbformat": 4,
  "language_info": {
   "name": "python",
   "version": "3.9.1",
   "mimetype": "text/x-python",
   "codemirror_mode": {
    "name": "ipython",
    "version": 3
   },
   "pygments_lexer": "ipython3",
   "nbconvert_exporter": "python",
   "file_extension": ".py"
  },
  "kernelspec": {
   "name": "python3",
   "display_name": "Python 3.9.1 64-bit ('.venv': venv)"
  },
  "interpreter": {
   "hash": "f1a0dd85954c6bc238ca7bdaf2a8066fbf81e468c841429ca41a9818893bb3fc"
  }
 },
 "nbformat": 4,
 "nbformat_minor": 2
}